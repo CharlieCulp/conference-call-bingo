{
 "cells": [
  {
   "cell_type": "markdown",
   "metadata": {},
   "source": [
    "# Conference Call Bingo\n",
    "- Created by Charlie Culp\n",
    "- Creation date 1/x/2020\n",
    "- Python 3.7"
   ]
  },
  {
   "cell_type": "markdown",
   "metadata": {},
   "source": [
    "## To do list\n",
    "- Possible to remove the column headers?\n",
    "- Create email distribution list\n",
    "- Figure out how to send it\n",
    "- Schedule it"
   ]
  },
  {
   "cell_type": "code",
   "execution_count": 30,
   "metadata": {},
   "outputs": [],
   "source": [
    "import pandas as pd\n",
    "import random\n",
    "import datetime as dt  \n",
    "\n",
    "path = ('C://Users/U037679/Documents/AnacondaProjects/conference_call_bingo/')\n",
    "\n",
    "infile = (path + 'BINGO_cc.xlsx')\n",
    "outfile = (path + 'BINGO_latest.xlsx')\n",
    "\n",
    "today = dt.datetime.today().strftime(\"%Y%m%d\")\n",
    "today_sheet_name = dt.datetime.today().strftime(\"%m-%d-%Y\")\n",
    "\n",
    "df = pd.read_excel(infile, sheet_name='list', )"
   ]
  },
  {
   "cell_type": "code",
   "execution_count": null,
   "metadata": {},
   "outputs": [],
   "source": [
    "# print(df['Quotes'])"
   ]
  },
  {
   "cell_type": "code",
   "execution_count": 31,
   "metadata": {},
   "outputs": [],
   "source": [
    "random.shuffle(df['Quotes'])\n",
    "# print (df['Quotes'])"
   ]
  },
  {
   "cell_type": "code",
   "execution_count": 32,
   "metadata": {},
   "outputs": [
    {
     "data": {
      "text/html": [
       "<div>\n",
       "<style scoped>\n",
       "    .dataframe tbody tr th:only-of-type {\n",
       "        vertical-align: middle;\n",
       "    }\n",
       "\n",
       "    .dataframe tbody tr th {\n",
       "        vertical-align: top;\n",
       "    }\n",
       "\n",
       "    .dataframe thead th {\n",
       "        text-align: right;\n",
       "    }\n",
       "</style>\n",
       "<table border=\"1\" class=\"dataframe\">\n",
       "  <thead>\n",
       "    <tr style=\"text-align: right;\">\n",
       "      <th></th>\n",
       "      <th>col0</th>\n",
       "      <th>col1</th>\n",
       "      <th>col2</th>\n",
       "      <th>col3</th>\n",
       "      <th>col4</th>\n",
       "    </tr>\n",
       "  </thead>\n",
       "  <tbody>\n",
       "    <tr>\n",
       "      <th>0</th>\n",
       "      <td>Can you reach out to  ____?</td>\n",
       "      <td>Can you repeat the question?</td>\n",
       "      <td>Dog Barking</td>\n",
       "      <td>It's [almost] Friday!</td>\n",
       "      <td>(Starting) This won't take the whole time</td>\n",
       "    </tr>\n",
       "    <tr>\n",
       "      <th>1</th>\n",
       "      <td>I’ve got to jump on another call</td>\n",
       "      <td>awkward silence</td>\n",
       "      <td>Typing noise</td>\n",
       "      <td>Loop in  _____</td>\n",
       "      <td>Who just joined?</td>\n",
       "    </tr>\n",
       "    <tr>\n",
       "      <th>2</th>\n",
       "      <td>Can you hear me?</td>\n",
       "      <td>win-win</td>\n",
       "      <td>circle back</td>\n",
       "      <td>Go ahead (talking at once)</td>\n",
       "      <td>I have to jump to another call</td>\n",
       "    </tr>\n",
       "    <tr>\n",
       "      <th>3</th>\n",
       "      <td>at the end of the day</td>\n",
       "      <td>touch base</td>\n",
       "      <td>Can you email that to everyone?</td>\n",
       "      <td>Sorry I was on Mute</td>\n",
       "      <td>Wind or road noise</td>\n",
       "    </tr>\n",
       "    <tr>\n",
       "      <th>4</th>\n",
       "      <td>I have a hard stop</td>\n",
       "      <td>My outlook / webex is not working</td>\n",
       "      <td>Ok. Let's get started</td>\n",
       "      <td>Can everyone see my screen?</td>\n",
       "      <td>Is _____ on the call?</td>\n",
       "    </tr>\n",
       "  </tbody>\n",
       "</table>\n",
       "</div>"
      ],
      "text/plain": [
       "                               col0                               col1  \\\n",
       "0       Can you reach out to  ____?       Can you repeat the question?   \n",
       "1  I’ve got to jump on another call                    awkward silence   \n",
       "2                  Can you hear me?                            win-win   \n",
       "3             at the end of the day                         touch base   \n",
       "4                I have a hard stop  My outlook / webex is not working   \n",
       "\n",
       "                              col2                         col3  \\\n",
       "0                      Dog Barking        It's [almost] Friday!   \n",
       "1                     Typing noise               Loop in  _____   \n",
       "2                      circle back   Go ahead (talking at once)   \n",
       "3  Can you email that to everyone?          Sorry I was on Mute   \n",
       "4            Ok. Let's get started  Can everyone see my screen?   \n",
       "\n",
       "                                        col4  \n",
       "0  (Starting) This won't take the whole time  \n",
       "1                           Who just joined?  \n",
       "2             I have to jump to another call  \n",
       "3                         Wind or road noise  \n",
       "4                      Is _____ on the call?  "
      ]
     },
     "execution_count": 32,
     "metadata": {},
     "output_type": "execute_result"
    }
   ],
   "source": [
    "# Create a grid from the list\n",
    "\n",
    "col0 = df['Quotes'][0:6]\n",
    "col1 = df['Quotes'][6:11]\n",
    "col2 = df['Quotes'][11:16]\n",
    "col3 = df['Quotes'][16:21]\n",
    "col4 = df['Quotes'][21:26]\n",
    "\n",
    "df_bingo = pd.DataFrame(list(zip(col0, col1, col2, col3, col4)), columns = \n",
    "                  ['col0', 'col1', 'col2', 'col3', 'col4'])\n",
    "\n",
    "df_bingo"
   ]
  },
  {
   "cell_type": "code",
   "execution_count": 85,
   "metadata": {},
   "outputs": [],
   "source": [
    "# Create a Pandas Excel writer using XlsxWriter as the engine.\n",
    "writer = pd.ExcelWriter(outfile, engine='xlsxwriter')\n",
    "df_bingo.to_excel(writer, sheet_name = today_sheet_name, index=False, header=False)\n"
   ]
  },
  {
   "cell_type": "code",
   "execution_count": 86,
   "metadata": {},
   "outputs": [],
   "source": [
    "# Get the XlsxWriter objects from the dataframe writer object.\n",
    "workbook = writer.book\n",
    "worksheet = writer.sheets[today_sheet_name]"
   ]
  },
  {
   "cell_type": "code",
   "execution_count": 87,
   "metadata": {},
   "outputs": [],
   "source": [
    "# Format this biatch\n",
    "cell_format = workbook.add_format()\n",
    "\n",
    "cell_format.set_text_wrap()\n",
    "cell_format.set_font_size(18)\n",
    "cell_format.set_align('center')\n",
    "cell_format.set_align('vcenter')\n",
    "cell_format.set_border(1)\n",
    "\n",
    "worksheet.set_row(1, 97.5)\n",
    "worksheet.set_row(2, 97.5)\n",
    "worksheet.set_row(3, 97.5)\n",
    "worksheet.set_row(4, 97.5)\n",
    "worksheet.set_row(5, 97.5)\n",
    "\n",
    "worksheet.set_page_view() # There's currently no way to remove the ruler from pageview\n",
    "worksheet.hide_gridlines(2) # 0 = don't hide gridlines, 1 = hide printed gridlines only, 2 = hide screen and printed gridlines\n",
    "worksheet.set_landscape()\n",
    "worksheet.set_margins(left=0.5, right=0.5, top=1.0, bottom=0.50)\n",
    "worksheet.set_column('A:E', 23.0, cell_format) \n",
    "worksheet.print_area('A1:E5')\n",
    "\n",
    "header = '&C&18&\"Calibri,Bold\"Conference Call Bingo!' + ' \\n&12&A'\n",
    "worksheet.set_header(header)"
   ]
  },
  {
   "cell_type": "code",
   "execution_count": 89,
   "metadata": {},
   "outputs": [],
   "source": [
    "writer.save()\n",
    "writer.close()"
   ]
  },
  {
   "cell_type": "markdown",
   "metadata": {},
   "source": [
    "### Mail this bad boy"
   ]
  },
  {
   "cell_type": "code",
   "execution_count": 90,
   "metadata": {},
   "outputs": [],
   "source": [
    "# Outlook method:\n",
    "\n",
    "v = open(path + r'\\email_list_just_me.txt', 'r')\n",
    "# v = open(path + r'\\email_list.txt', 'r')\n",
    "contents = v.read()\n",
    "outlook = win32.Dispatch('outlook.application')\n",
    "mail = outlook.CreateItem(0)\n",
    "nameList = contents.split('\\n')\n",
    "for name in nameList:\n",
    "    if name != '':\n",
    "        mail.Recipients.Add(name)\n",
    "\n",
    "mail.Subject = \"Here's the latest conference call bingo card\"\n",
    "mail.HTMLBody =  '<h3>The latest cards just arrived from HQ!</h3>' + \\\n",
    "                'Attached is your card for the week.' + \\\n",
    "                '<br>(This is an automated message.)'\n",
    "\n",
    "attachment  = outfile\n",
    "mail.Attachments.Add(attachment)\n",
    "\n",
    "v.close()\n",
    "mail.Send()\n"
   ]
  },
  {
   "cell_type": "code",
   "execution_count": 38,
   "metadata": {},
   "outputs": [],
   "source": [
    "# Outlook method\n",
    "# https://stackoverflow.com/questions/6332577/send-outlook-email-via-python\n",
    "\n",
    "# import win32com.client as win32\n",
    "# outlook = win32.Dispatch('outlook.application')\n",
    "# mail = outlook.CreateItem(0)\n",
    "# mail.To = 'charles.culp@cvshealth.com'\n",
    "# mail.Subject = 'Conference call bingo card - TEST2'\n",
    "# # mail.Body = 'Attached is the card for the week. (This is an outomated message.)'\n",
    "# mail.HTMLBody = '<h3>Conference Call Bingo!</h3>' + \\\n",
    "#                 'Attached is the card for the week.' + \\\n",
    "#                 '<br>(This is an outomated message.)'\n",
    "\n",
    "# # To attach a file to the email (optional):\n",
    "# # attachment  = \"Path to the attachment\"\n",
    "# attachment  = outfile\n",
    "# mail.Attachments.Add(attachment)\n",
    "\n",
    "# mail.Send()"
   ]
  },
  {
   "cell_type": "code",
   "execution_count": null,
   "metadata": {},
   "outputs": [],
   "source": []
  }
 ],
 "metadata": {
  "kernelspec": {
   "display_name": "Python 3",
   "language": "python",
   "name": "python3"
  },
  "language_info": {
   "codemirror_mode": {
    "name": "ipython",
    "version": 3
   },
   "file_extension": ".py",
   "mimetype": "text/x-python",
   "name": "python",
   "nbconvert_exporter": "python",
   "pygments_lexer": "ipython3",
   "version": "3.6.5"
  }
 },
 "nbformat": 4,
 "nbformat_minor": 4
}
