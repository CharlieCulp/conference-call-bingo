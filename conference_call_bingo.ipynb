{
 "cells": [
  {
   "cell_type": "code",
   "execution_count": 25,
   "metadata": {},
   "outputs": [],
   "source": [
    "import os\n",
    "import random\n",
    "import pandas as pd\n",
    "from pandas import ExcelWriter\n",
    "from pandas import ExcelFile\n",
    "\n",
    "# df = pd.read_excel('\\\\shea-x400s01.corp.cvscaremark.com\\HOME1\\Python\\myScripts\\BINGO_cc.xlsx', sheet_name='list')\n"
   ]
  },
  {
   "cell_type": "code",
   "execution_count": 63,
   "metadata": {},
   "outputs": [],
   "source": [
    "# file = (\"C://temp/BSC_Hemo_All_Legends_Q2_2019.xlsx\")\n",
    "file = (\"C://Users/U037679/Documents/AnacondaProjects/conference_call_bingo/BINGO_cc.xlsx\")\n",
    "\n",
    "df = pd.read_excel(file, sheet_name='list', )\n"
   ]
  },
  {
   "cell_type": "code",
   "execution_count": 64,
   "metadata": {},
   "outputs": [
    {
     "name": "stdout",
     "output_type": "stream",
     "text": [
      "column Headings:\n",
      "Index(['Quotes'], dtype='object')\n",
      "0                               Happy Wednesday\n",
      "1             My outlook / webex is not working\n",
      "2                I have to jump to another call\n",
      "3                      We can't see your screen\n",
      "4                                  Typing noise\n",
      "5                Can you email that to everyone\n",
      "6                           Sorry I was on Mute\n",
      "7                            It's almost Friday\n",
      "8                              Echo or Feedback\n",
      "9                       Let's take this offline\n",
      "10                                  Dog Barking\n",
      "11                          I have a hard stop.\n",
      "12                             Who just joined?\n",
      "13                                     Go ahead\n",
      "14                        Is _____ on the call?\n",
      "15                You're phone was breaking up.\n",
      "16                  Can you repeat the question\n",
      "17                           Wind or road noise\n",
      "18                              Sorry I'm late.\n",
      "19      Can everyone mute if you aren't talking\n",
      "20                             Can you hear me?\n",
      "21                  Can everyone see my screen?\n",
      "22    Let me IM them to see if they are joining\n",
      "23                I'll have to get back to you.\n",
      "24                        Ok. Let's get started\n",
      "25                I'll give you back x minutes \n",
      "Name: Quotes, dtype: object\n"
     ]
    }
   ],
   "source": [
    "print(\"column Headings:\")\n",
    "print(df.columns)\n",
    "print(df['Quotes'])"
   ]
  },
  {
   "cell_type": "code",
   "execution_count": 65,
   "metadata": {},
   "outputs": [
    {
     "name": "stdout",
     "output_type": "stream",
     "text": [
      "0                              Can you hear me?\n",
      "1                               Sorry I'm late.\n",
      "2                              Who just joined?\n",
      "3       Can everyone mute if you aren't talking\n",
      "4                                  Typing noise\n",
      "5                                   Dog Barking\n",
      "6                                      Go ahead\n",
      "7                      We can't see your screen\n",
      "8                               Happy Wednesday\n",
      "9                 I'll give you back x minutes \n",
      "10                        Is _____ on the call?\n",
      "11                           It's almost Friday\n",
      "12    Let me IM them to see if they are joining\n",
      "13               I have to jump to another call\n",
      "14                        Ok. Let's get started\n",
      "15                  Can everyone see my screen?\n",
      "16                  Can you repeat the question\n",
      "17               Can you email that to everyone\n",
      "18            My outlook / webex is not working\n",
      "19                          Sorry I was on Mute\n",
      "20                I'll have to get back to you.\n",
      "21                             Echo or Feedback\n",
      "22                You're phone was breaking up.\n",
      "23                           Wind or road noise\n",
      "24                      Let's take this offline\n",
      "25                          I have a hard stop.\n",
      "Name: Quotes, dtype: object\n"
     ]
    }
   ],
   "source": [
    "random.shuffle(df['Quotes'])\n",
    "print (df['Quotes'])"
   ]
  },
  {
   "cell_type": "code",
   "execution_count": 66,
   "metadata": {},
   "outputs": [
    {
     "data": {
      "text/html": [
       "<div>\n",
       "<style scoped>\n",
       "    .dataframe tbody tr th:only-of-type {\n",
       "        vertical-align: middle;\n",
       "    }\n",
       "\n",
       "    .dataframe tbody tr th {\n",
       "        vertical-align: top;\n",
       "    }\n",
       "\n",
       "    .dataframe thead th {\n",
       "        text-align: right;\n",
       "    }\n",
       "</style>\n",
       "<table border=\"1\" class=\"dataframe\">\n",
       "  <thead>\n",
       "    <tr style=\"text-align: right;\">\n",
       "      <th></th>\n",
       "      <th>col0</th>\n",
       "      <th>col1</th>\n",
       "      <th>col2</th>\n",
       "      <th>col3</th>\n",
       "      <th>col4</th>\n",
       "    </tr>\n",
       "  </thead>\n",
       "  <tbody>\n",
       "    <tr>\n",
       "      <td>0</td>\n",
       "      <td>Can you hear me?</td>\n",
       "      <td>Go ahead</td>\n",
       "      <td>It's almost Friday</td>\n",
       "      <td>Can you repeat the question</td>\n",
       "      <td>Echo or Feedback</td>\n",
       "    </tr>\n",
       "    <tr>\n",
       "      <td>1</td>\n",
       "      <td>Sorry I'm late.</td>\n",
       "      <td>We can't see your screen</td>\n",
       "      <td>Let me IM them to see if they are joining</td>\n",
       "      <td>Can you email that to everyone</td>\n",
       "      <td>You're phone was breaking up.</td>\n",
       "    </tr>\n",
       "    <tr>\n",
       "      <td>2</td>\n",
       "      <td>Who just joined?</td>\n",
       "      <td>Happy Wednesday</td>\n",
       "      <td>I have to jump to another call</td>\n",
       "      <td>My outlook / webex is not working</td>\n",
       "      <td>Wind or road noise</td>\n",
       "    </tr>\n",
       "    <tr>\n",
       "      <td>3</td>\n",
       "      <td>Can everyone mute if you aren't talking</td>\n",
       "      <td>I'll give you back x minutes</td>\n",
       "      <td>Ok. Let's get started</td>\n",
       "      <td>Sorry I was on Mute</td>\n",
       "      <td>Let's take this offline</td>\n",
       "    </tr>\n",
       "    <tr>\n",
       "      <td>4</td>\n",
       "      <td>Typing noise</td>\n",
       "      <td>Is _____ on the call?</td>\n",
       "      <td>Can everyone see my screen?</td>\n",
       "      <td>I'll have to get back to you.</td>\n",
       "      <td>I have a hard stop.</td>\n",
       "    </tr>\n",
       "  </tbody>\n",
       "</table>\n",
       "</div>"
      ],
      "text/plain": [
       "                                      col0                           col1  \\\n",
       "0                         Can you hear me?                       Go ahead   \n",
       "1                          Sorry I'm late.       We can't see your screen   \n",
       "2                         Who just joined?                Happy Wednesday   \n",
       "3  Can everyone mute if you aren't talking  I'll give you back x minutes    \n",
       "4                             Typing noise          Is _____ on the call?   \n",
       "\n",
       "                                        col2  \\\n",
       "0                         It's almost Friday   \n",
       "1  Let me IM them to see if they are joining   \n",
       "2             I have to jump to another call   \n",
       "3                      Ok. Let's get started   \n",
       "4                Can everyone see my screen?   \n",
       "\n",
       "                                col3                           col4  \n",
       "0        Can you repeat the question               Echo or Feedback  \n",
       "1     Can you email that to everyone  You're phone was breaking up.  \n",
       "2  My outlook / webex is not working             Wind or road noise  \n",
       "3                Sorry I was on Mute        Let's take this offline  \n",
       "4      I'll have to get back to you.            I have a hard stop.  "
      ]
     },
     "execution_count": 66,
     "metadata": {},
     "output_type": "execute_result"
    }
   ],
   "source": [
    "col0 = df['Quotes'][0:6]\n",
    "col1 = df['Quotes'][6:11]\n",
    "col2 = df['Quotes'][11:16]\n",
    "col3 = df['Quotes'][16:21]\n",
    "col4 = df['Quotes'][21:26]\n",
    "\n",
    "df_bingo = pd.DataFrame(list(zip(col0, col1, col2, col3, col4)), columns = \n",
    "                  ['col0', 'col1', 'col2', 'col3', 'col4'])\n",
    "\n",
    "df_bingo"
   ]
  },
  {
   "cell_type": "code",
   "execution_count": 75,
   "metadata": {},
   "outputs": [],
   "source": [
    "df_bingo.to_excel(file, sheet_name='new_list2', )\n",
    "writer.save()\n",
    "writer.close()"
   ]
  },
  {
   "cell_type": "markdown",
   "metadata": {},
   "source": [
    "### Next steps \n",
    "- output without overwriting last data\n",
    "- format them into bigger squares for printing"
   ]
  },
  {
   "cell_type": "code",
   "execution_count": null,
   "metadata": {},
   "outputs": [],
   "source": []
  }
 ],
 "metadata": {
  "kernelspec": {
   "display_name": "Python 3",
   "language": "python",
   "name": "python3"
  },
  "language_info": {
   "codemirror_mode": {
    "name": "ipython",
    "version": 3
   },
   "file_extension": ".py",
   "mimetype": "text/x-python",
   "name": "python",
   "nbconvert_exporter": "python",
   "pygments_lexer": "ipython3",
   "version": "3.7.4"
  }
 },
 "nbformat": 4,
 "nbformat_minor": 4
}
