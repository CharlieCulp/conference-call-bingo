{
 "cells": [
  {
   "cell_type": "markdown",
   "metadata": {},
   "source": [
    "# Conference Call Bingo\n",
    "- Created by Charlie Culp\n",
    "- Creation date 10/x/2019\n",
    "- Python 3.7"
   ]
  },
  {
   "cell_type": "code",
   "execution_count": 1,
   "metadata": {},
   "outputs": [],
   "source": [
    "import random\n",
    "import pandas as pd\n",
    "from pandas import ExcelWriter\n",
    "from pandas import ExcelFile\n",
    "from openpyxl import load_workbook\n"
   ]
  },
  {
   "cell_type": "code",
   "execution_count": 2,
   "metadata": {},
   "outputs": [],
   "source": [
    "from openpyxl.styles import Alignment #, PatternFill, Border, Side, Protection, Font"
   ]
  },
  {
   "cell_type": "markdown",
   "metadata": {},
   "source": [
    "### Read in file"
   ]
  },
  {
   "cell_type": "code",
   "execution_count": 17,
   "metadata": {},
   "outputs": [],
   "source": [
    "file = (\"C://Users/U037679/Documents/AnacondaProjects/conference_call_bingo/BINGO_cc.xlsx\")\n",
    "# file = \"/home/ccculp2/Documents/Python/conference_call_bingo/BINGO_cc.xlsx\"\n",
    "\n",
    "df = pd.read_excel(file, sheet_name='list', )\n",
    "book = load_workbook(file)\n",
    "writer = pd.ExcelWriter(file, engine = 'openpyxl') # this engine allows creating new tab instead of new workbook\n",
    "writer.book = book"
   ]
  },
  {
   "cell_type": "code",
   "execution_count": 8,
   "metadata": {},
   "outputs": [
    {
     "name": "stdout",
     "output_type": "stream",
     "text": [
      "0                               Happy Wednesday\n",
      "1             My outlook / webex is not working\n",
      "2                I have to jump to another call\n",
      "3                      We can't see your screen\n",
      "4                                  Typing noise\n",
      "5                Can you email that to everyone\n",
      "6                           Sorry I was on Mute\n",
      "7                            It's almost Friday\n",
      "8                              Echo or Feedback\n",
      "9                       Let's take this offline\n",
      "10                                  Dog Barking\n",
      "11                          I have a hard stop.\n",
      "12                             Who just joined?\n",
      "13                                     Go ahead\n",
      "14                        Is _____ on the call?\n",
      "15                You're phone was breaking up.\n",
      "16                  Can you repeat the question\n",
      "17                           Wind or road noise\n",
      "18                              Sorry I'm late.\n",
      "19      Can everyone mute if you aren't talking\n",
      "20                             Can you hear me?\n",
      "21                  Can everyone see my screen?\n",
      "22    Let me IM them to see if they are joining\n",
      "23                I'll have to get back to you.\n",
      "24                        Ok. Let's get started\n",
      "25                I'll give you back x minutes \n",
      "Name: Quotes, dtype: object\n"
     ]
    }
   ],
   "source": [
    "print(df['Quotes'])"
   ]
  },
  {
   "cell_type": "markdown",
   "metadata": {},
   "source": [
    "### Randomize the list"
   ]
  },
  {
   "cell_type": "code",
   "execution_count": 35,
   "metadata": {},
   "outputs": [
    {
     "name": "stdout",
     "output_type": "stream",
     "text": [
      "0     Let me IM them to see if they are joining\n",
      "1                 I'll give you back x minutes \n",
      "2                   Can everyone see my screen?\n",
      "3                              Echo or Feedback\n",
      "4                I have to jump to another call\n",
      "5       Can everyone mute if you aren't talking\n",
      "6                           I have a hard stop.\n",
      "7                                  Typing noise\n",
      "8                   Can you repeat the question\n",
      "9                               Sorry I'm late.\n",
      "10                I'll have to get back to you.\n",
      "11                      Let's take this offline\n",
      "12                              Happy Wednesday\n",
      "13                           It's almost Friday\n",
      "14                     We can't see your screen\n",
      "15                             Can you hear me?\n",
      "16                             Who just joined?\n",
      "17                           Wind or road noise\n",
      "18                          Sorry I was on Mute\n",
      "19               Can you email that to everyone\n",
      "20                                  Dog Barking\n",
      "21                        Ok. Let's get started\n",
      "22                                     Go ahead\n",
      "23            My outlook / webex is not working\n",
      "24                        Is _____ on the call?\n",
      "25                You're phone was breaking up.\n",
      "Name: Quotes, dtype: object\n"
     ]
    }
   ],
   "source": [
    "random.shuffle(df['Quotes'])\n",
    "print (df['Quotes'])"
   ]
  },
  {
   "cell_type": "code",
   "execution_count": 36,
   "metadata": {},
   "outputs": [
    {
     "data": {
      "text/html": [
       "<div>\n",
       "<style scoped>\n",
       "    .dataframe tbody tr th:only-of-type {\n",
       "        vertical-align: middle;\n",
       "    }\n",
       "\n",
       "    .dataframe tbody tr th {\n",
       "        vertical-align: top;\n",
       "    }\n",
       "\n",
       "    .dataframe thead th {\n",
       "        text-align: right;\n",
       "    }\n",
       "</style>\n",
       "<table border=\"1\" class=\"dataframe\">\n",
       "  <thead>\n",
       "    <tr style=\"text-align: right;\">\n",
       "      <th></th>\n",
       "      <th>col0</th>\n",
       "      <th>col1</th>\n",
       "      <th>col2</th>\n",
       "      <th>col3</th>\n",
       "      <th>col4</th>\n",
       "    </tr>\n",
       "  </thead>\n",
       "  <tbody>\n",
       "    <tr>\n",
       "      <td>0</td>\n",
       "      <td>Let me IM them to see if they are joining</td>\n",
       "      <td>I have a hard stop.</td>\n",
       "      <td>Let's take this offline</td>\n",
       "      <td>Who just joined?</td>\n",
       "      <td>Ok. Let's get started</td>\n",
       "    </tr>\n",
       "    <tr>\n",
       "      <td>1</td>\n",
       "      <td>I'll give you back x minutes</td>\n",
       "      <td>Typing noise</td>\n",
       "      <td>Happy Wednesday</td>\n",
       "      <td>Wind or road noise</td>\n",
       "      <td>Go ahead</td>\n",
       "    </tr>\n",
       "    <tr>\n",
       "      <td>2</td>\n",
       "      <td>Can everyone see my screen?</td>\n",
       "      <td>Can you repeat the question</td>\n",
       "      <td>It's almost Friday</td>\n",
       "      <td>Sorry I was on Mute</td>\n",
       "      <td>My outlook / webex is not working</td>\n",
       "    </tr>\n",
       "    <tr>\n",
       "      <td>3</td>\n",
       "      <td>Echo or Feedback</td>\n",
       "      <td>Sorry I'm late.</td>\n",
       "      <td>We can't see your screen</td>\n",
       "      <td>Can you email that to everyone</td>\n",
       "      <td>Is _____ on the call?</td>\n",
       "    </tr>\n",
       "    <tr>\n",
       "      <td>4</td>\n",
       "      <td>I have to jump to another call</td>\n",
       "      <td>I'll have to get back to you.</td>\n",
       "      <td>Can you hear me?</td>\n",
       "      <td>Dog Barking</td>\n",
       "      <td>You're phone was breaking up.</td>\n",
       "    </tr>\n",
       "  </tbody>\n",
       "</table>\n",
       "</div>"
      ],
      "text/plain": [
       "                                        col0                           col1  \\\n",
       "0  Let me IM them to see if they are joining            I have a hard stop.   \n",
       "1              I'll give you back x minutes                    Typing noise   \n",
       "2                Can everyone see my screen?    Can you repeat the question   \n",
       "3                           Echo or Feedback                Sorry I'm late.   \n",
       "4             I have to jump to another call  I'll have to get back to you.   \n",
       "\n",
       "                       col2                            col3  \\\n",
       "0   Let's take this offline                Who just joined?   \n",
       "1           Happy Wednesday              Wind or road noise   \n",
       "2        It's almost Friday             Sorry I was on Mute   \n",
       "3  We can't see your screen  Can you email that to everyone   \n",
       "4          Can you hear me?                     Dog Barking   \n",
       "\n",
       "                                col4  \n",
       "0              Ok. Let's get started  \n",
       "1                           Go ahead  \n",
       "2  My outlook / webex is not working  \n",
       "3              Is _____ on the call?  \n",
       "4      You're phone was breaking up.  "
      ]
     },
     "execution_count": 36,
     "metadata": {},
     "output_type": "execute_result"
    }
   ],
   "source": [
    "col0 = df['Quotes'][0:6]\n",
    "col1 = df['Quotes'][6:11]\n",
    "col2 = df['Quotes'][11:16]\n",
    "col3 = df['Quotes'][16:21]\n",
    "col4 = df['Quotes'][21:26]\n",
    "\n",
    "df_bingo = pd.DataFrame(list(zip(col0, col1, col2, col3, col4)), columns = \n",
    "                  ['col0', 'col1', 'col2', 'col3', 'col4'])\n",
    "\n",
    "df_bingo"
   ]
  },
  {
   "cell_type": "markdown",
   "metadata": {},
   "source": [
    "### Output and keep \n",
    "https://stackoverflow.com/questions/42370977/how-to-save-a-new-sheet-in-an-existing-excel-file-using-pandas\n"
   ]
  },
  {
   "cell_type": "code",
   "execution_count": 20,
   "metadata": {},
   "outputs": [],
   "source": [
    "df_bingo.to_excel(writer, sheet_name = 'grid')\n",
    "writer.save()\n",
    "writer.close()"
   ]
  },
  {
   "cell_type": "markdown",
   "metadata": {},
   "source": [
    "### Next steps \n",
    "- Format grid into bigger squares for printing"
   ]
  },
  {
   "cell_type": "markdown",
   "metadata": {},
   "source": [
    "https://stackoverflow.com/questions/8440284/setting-styles-in-openpyxl    "
   ]
  },
  {
   "cell_type": "code",
   "execution_count": null,
   "metadata": {},
   "outputs": [],
   "source": [
    "# define ws here, in this case I pick the first worksheet in the workbook...\n",
    "#    NOTE: openpyxl has other ways to select a specific worksheet (i.e. by name\n",
    "#    via book.get_sheet_by_name('someWorksheetName'))\n",
    "ws = book.worksheets[0]\n",
    "\n",
    "## ws is a openpypxl worksheet object\n",
    "_cell = ws.cell('C1')\n",
    "\n",
    "# Font properties\n",
    "_cell.style.font.color.index = Color.GREEN\n",
    "_cell.style.font.name = 'Arial'\n",
    "_cell.style.font.size = 8\n",
    "_cell.style.font.bold = True\n",
    "_cell.style.alignment.wrap_text = True\n",
    "\n",
    "# Cell background color\n",
    "_cell.style.fill.fill_type = Fill.FILL_SOLID\n",
    "_cell.style.fill.start_color.index = Color.DARKRED\n",
    "\n",
    "# You should only modify column dimensions after you have written a cell in \n",
    "#     the column. Perfect world: write column dimensions once per column\n",
    "# \n",
    "ws.column_dimensions[\"C\"].width = 60.0"
   ]
  },
  {
   "cell_type": "code",
   "execution_count": 27,
   "metadata": {},
   "outputs": [
    {
     "data": {
      "text/plain": [
       "['original',\n",
       " 'list',\n",
       " 'mon',\n",
       " 'tue',\n",
       " 'wed',\n",
       " 'thu',\n",
       " 'fri',\n",
       " 'mon1',\n",
       " 'grid',\n",
       " 'grid1',\n",
       " 'grid2',\n",
       " 'grid3']"
      ]
     },
     "execution_count": 27,
     "metadata": {},
     "output_type": "execute_result"
    }
   ],
   "source": [
    "import openpyxl\n",
    "workbook=openpyxl.load_workbook(file)\n",
    "workbook.sheetnames"
   ]
  },
  {
   "cell_type": "code",
   "execution_count": 32,
   "metadata": {},
   "outputs": [],
   "source": [
    "alignment=Alignment(horizontal='general',\n",
    "                    vertical='center',\n",
    "                    text_rotation=0,\n",
    "                    wrap_text=True,\n",
    "                    shrink_to_fit=False,\n",
    "                    indent=0)"
   ]
  },
  {
   "cell_type": "code",
   "execution_count": null,
   "metadata": {},
   "outputs": [],
   "source": []
  }
 ],
 "metadata": {
  "kernelspec": {
   "display_name": "Python 3",
   "language": "python",
   "name": "python3"
  },
  "language_info": {
   "codemirror_mode": {
    "name": "ipython",
    "version": 3
   },
   "file_extension": ".py",
   "mimetype": "text/x-python",
   "name": "python",
   "nbconvert_exporter": "python",
   "pygments_lexer": "ipython3",
   "version": "3.7.4"
  }
 },
 "nbformat": 4,
 "nbformat_minor": 4
}
