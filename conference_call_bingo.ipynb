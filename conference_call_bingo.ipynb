{
 "cells": [
  {
   "cell_type": "code",
   "execution_count": 36,
   "metadata": {},
   "outputs": [],
   "source": [
    "import random\n",
    "import pandas as pd\n",
    "from pandas import ExcelWriter\n",
    "from pandas import ExcelFile\n",
    "from openpyxl import load_workbook\n"
   ]
  },
  {
   "cell_type": "code",
   "execution_count": 37,
   "metadata": {},
   "outputs": [],
   "source": [
    "from openpyxl.styles import Alignment #, PatternFill, Border, Side, Protection, Font"
   ]
  },
  {
   "cell_type": "markdown",
   "metadata": {},
   "source": [
    "#### Format "
   ]
  },
  {
   "cell_type": "code",
   "execution_count": 39,
   "metadata": {},
   "outputs": [],
   "source": [
    "alignment=Alignment(horizontal='general',\n",
    "                    vertical='center',\n",
    "                    text_rotation=0,\n",
    "                    wrap_text=True,\n",
    "                    shrink_to_fit=False,\n",
    "                    indent=0)"
   ]
  },
  {
   "cell_type": "markdown",
   "metadata": {},
   "source": [
    "#### Read in file"
   ]
  },
  {
   "cell_type": "code",
   "execution_count": 40,
   "metadata": {},
   "outputs": [],
   "source": [
    "# file = (\"C://Users/U037679/Documents/AnacondaProjects/conference_call_bingo/BINGO_cc.xlsx\")\n",
    "file = \"/home/ccculp2/Documents/Python/conference_call_bingo/BINGO_cc.xlsx\"\n",
    "\n",
    "book = load_workbook(file)\n",
    "writer = pd.ExcelWriter(file, engine = 'openpyxl') # this engine allows creating new tab instead of new workbook\n",
    "writer.book = book"
   ]
  },
  {
   "cell_type": "code",
   "execution_count": 41,
   "metadata": {},
   "outputs": [
    {
     "name": "stdout",
     "output_type": "stream",
     "text": [
      "0                            It's almost Friday\n",
      "1                            Wind or road noise\n",
      "2             My outlook / webex is not working\n",
      "3                         Ok. Let's get started\n",
      "4                   Can everyone see my screen?\n",
      "5                              Who just joined?\n",
      "6                 You're phone was breaking up.\n",
      "7                 I'll have to get back to you.\n",
      "8                              Echo or Feedback\n",
      "9                                      Go ahead\n",
      "10                        Is _____ on the call?\n",
      "11               I have to jump to another call\n",
      "12                              Sorry I'm late.\n",
      "13                                  Dog Barking\n",
      "14               Can you email that to everyone\n",
      "15      Can everyone mute if you aren't talking\n",
      "16    Let me IM them to see if they are joining\n",
      "17                      Let's take this offline\n",
      "18                              Happy Wednesday\n",
      "19                  Can you repeat the question\n",
      "20                     We can't see your screen\n",
      "21                                 Typing noise\n",
      "22                I'll give you back x minutes \n",
      "23                          I have a hard stop.\n",
      "24                             Can you hear me?\n",
      "25                          Sorry I was on Mute\n",
      "Name: Quotes, dtype: object\n"
     ]
    }
   ],
   "source": [
    "# print(\"column Headings:\")\n",
    "# print(df.columns)\n",
    "print(df['Quotes'])"
   ]
  },
  {
   "cell_type": "code",
   "execution_count": 42,
   "metadata": {},
   "outputs": [
    {
     "name": "stdout",
     "output_type": "stream",
     "text": [
      "0     Let me IM them to see if they are joining\n",
      "1                               Sorry I'm late.\n",
      "2                 I'll give you back x minutes \n",
      "3                            Wind or road noise\n",
      "4                       Let's take this offline\n",
      "5                Can you email that to everyone\n",
      "6                                      Go ahead\n",
      "7                      We can't see your screen\n",
      "8                            It's almost Friday\n",
      "9                         Is _____ on the call?\n",
      "10                          Sorry I was on Mute\n",
      "11                You're phone was breaking up.\n",
      "12                  Can you repeat the question\n",
      "13                                 Typing noise\n",
      "14               I have to jump to another call\n",
      "15                          I have a hard stop.\n",
      "16                        Ok. Let's get started\n",
      "17                             Who just joined?\n",
      "18      Can everyone mute if you aren't talking\n",
      "19                              Happy Wednesday\n",
      "20                             Can you hear me?\n",
      "21            My outlook / webex is not working\n",
      "22                                  Dog Barking\n",
      "23                  Can everyone see my screen?\n",
      "24                I'll have to get back to you.\n",
      "25                             Echo or Feedback\n",
      "Name: Quotes, dtype: object\n"
     ]
    }
   ],
   "source": [
    "random.shuffle(df['Quotes'])\n",
    "print (df['Quotes'])"
   ]
  },
  {
   "cell_type": "code",
   "execution_count": 43,
   "metadata": {},
   "outputs": [
    {
     "data": {
      "text/html": [
       "<div>\n",
       "<style scoped>\n",
       "    .dataframe tbody tr th:only-of-type {\n",
       "        vertical-align: middle;\n",
       "    }\n",
       "\n",
       "    .dataframe tbody tr th {\n",
       "        vertical-align: top;\n",
       "    }\n",
       "\n",
       "    .dataframe thead th {\n",
       "        text-align: right;\n",
       "    }\n",
       "</style>\n",
       "<table border=\"1\" class=\"dataframe\">\n",
       "  <thead>\n",
       "    <tr style=\"text-align: right;\">\n",
       "      <th></th>\n",
       "      <th>col0</th>\n",
       "      <th>col1</th>\n",
       "      <th>col2</th>\n",
       "      <th>col3</th>\n",
       "      <th>col4</th>\n",
       "    </tr>\n",
       "  </thead>\n",
       "  <tbody>\n",
       "    <tr>\n",
       "      <td>0</td>\n",
       "      <td>Let me IM them to see if they are joining</td>\n",
       "      <td>Go ahead</td>\n",
       "      <td>You're phone was breaking up.</td>\n",
       "      <td>Ok. Let's get started</td>\n",
       "      <td>My outlook / webex is not working</td>\n",
       "    </tr>\n",
       "    <tr>\n",
       "      <td>1</td>\n",
       "      <td>Sorry I'm late.</td>\n",
       "      <td>We can't see your screen</td>\n",
       "      <td>Can you repeat the question</td>\n",
       "      <td>Who just joined?</td>\n",
       "      <td>Dog Barking</td>\n",
       "    </tr>\n",
       "    <tr>\n",
       "      <td>2</td>\n",
       "      <td>I'll give you back x minutes</td>\n",
       "      <td>It's almost Friday</td>\n",
       "      <td>Typing noise</td>\n",
       "      <td>Can everyone mute if you aren't talking</td>\n",
       "      <td>Can everyone see my screen?</td>\n",
       "    </tr>\n",
       "    <tr>\n",
       "      <td>3</td>\n",
       "      <td>Wind or road noise</td>\n",
       "      <td>Is _____ on the call?</td>\n",
       "      <td>I have to jump to another call</td>\n",
       "      <td>Happy Wednesday</td>\n",
       "      <td>I'll have to get back to you.</td>\n",
       "    </tr>\n",
       "    <tr>\n",
       "      <td>4</td>\n",
       "      <td>Let's take this offline</td>\n",
       "      <td>Sorry I was on Mute</td>\n",
       "      <td>I have a hard stop.</td>\n",
       "      <td>Can you hear me?</td>\n",
       "      <td>Echo or Feedback</td>\n",
       "    </tr>\n",
       "  </tbody>\n",
       "</table>\n",
       "</div>"
      ],
      "text/plain": [
       "                                        col0                      col1  \\\n",
       "0  Let me IM them to see if they are joining                  Go ahead   \n",
       "1                            Sorry I'm late.  We can't see your screen   \n",
       "2              I'll give you back x minutes         It's almost Friday   \n",
       "3                         Wind or road noise     Is _____ on the call?   \n",
       "4                    Let's take this offline       Sorry I was on Mute   \n",
       "\n",
       "                             col2                                     col3  \\\n",
       "0   You're phone was breaking up.                    Ok. Let's get started   \n",
       "1     Can you repeat the question                         Who just joined?   \n",
       "2                    Typing noise  Can everyone mute if you aren't talking   \n",
       "3  I have to jump to another call                          Happy Wednesday   \n",
       "4             I have a hard stop.                         Can you hear me?   \n",
       "\n",
       "                                col4  \n",
       "0  My outlook / webex is not working  \n",
       "1                        Dog Barking  \n",
       "2        Can everyone see my screen?  \n",
       "3      I'll have to get back to you.  \n",
       "4                   Echo or Feedback  "
      ]
     },
     "execution_count": 43,
     "metadata": {},
     "output_type": "execute_result"
    }
   ],
   "source": [
    "col0 = df['Quotes'][0:6]\n",
    "col1 = df['Quotes'][6:11]\n",
    "col2 = df['Quotes'][11:16]\n",
    "col3 = df['Quotes'][16:21]\n",
    "col4 = df['Quotes'][21:26]\n",
    "\n",
    "df_bingo = pd.DataFrame(list(zip(col0, col1, col2, col3, col4)), columns = \n",
    "                  ['col0', 'col1', 'col2', 'col3', 'col4'])\n",
    "\n",
    "df_bingo"
   ]
  },
  {
   "cell_type": "markdown",
   "metadata": {},
   "source": [
    "### Output and keep \n",
    "https://stackoverflow.com/questions/42370977/how-to-save-a-new-sheet-in-an-existing-excel-file-using-pandas\n"
   ]
  },
  {
   "cell_type": "code",
   "execution_count": 44,
   "metadata": {},
   "outputs": [],
   "source": [
    "df_bingo.to_excel(writer, sheet_name = 'grid')\n",
    "writer.save()\n",
    "writer.close()"
   ]
  },
  {
   "cell_type": "markdown",
   "metadata": {},
   "source": [
    "### Next steps \n",
    "- Format grid into bigger squares for printing"
   ]
  },
  {
   "cell_type": "markdown",
   "metadata": {},
   "source": [
    "https://stackoverflow.com/questions/8440284/setting-styles-in-openpyxl    "
   ]
  }
 ],
 "metadata": {
  "kernelspec": {
   "display_name": "Python 3",
   "language": "python",
   "name": "python3"
  },
  "language_info": {
   "codemirror_mode": {
    "name": "ipython",
    "version": 3
   },
   "file_extension": ".py",
   "mimetype": "text/x-python",
   "name": "python",
   "nbconvert_exporter": "python",
   "pygments_lexer": "ipython3",
   "version": "3.7.4"
  }
 },
 "nbformat": 4,
 "nbformat_minor": 4
}
