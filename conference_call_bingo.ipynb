{
 "cells": [
  {
   "cell_type": "markdown",
   "metadata": {},
   "source": [
    "# Conference Call Bingo\n",
    "- Created by Charlie Culp\n",
    "- Creation date 1/x/2020\n",
    "- Python 3.7"
   ]
  },
  {
   "cell_type": "markdown",
   "metadata": {},
   "source": [
    "## To do list\n",
    "- Possible to remove the column headers?\n",
    "- Create email distribution list\n",
    "- Figure out how to send it\n",
    "- Schedule it"
   ]
  },
  {
   "cell_type": "code",
   "execution_count": 59,
   "metadata": {},
   "outputs": [],
   "source": [
    "import pandas as pd\n",
    "import random\n",
    "import datetime as dt  \n",
    "\n",
    "today = dt.datetime.today().strftime(\"%Y%m%d\")\n",
    "today_sheet_name = dt.datetime.today().strftime(\"%m-%d-%Y\")\n",
    "\n",
    "infile = ('C://Users/U037679/Documents/AnacondaProjects/conference_call_bingo/BINGO_cc.xlsx')\n",
    "outfile = ('C://Users/U037679/Documents/AnacondaProjects/conference_call_bingo/BINGO_latest.xlsx')\n",
    "# infile = \"/home/ccculp2/Documents/Python/conference_call_bingo/BINGO_cc.xlsx\"\n",
    "# outfile = \"/home/ccculp2/Documents/Python/conference_call_bingo/BINGO_latest.xlsx\"\n",
    "\n",
    "df = pd.read_excel(infile, sheet_name='list', )"
   ]
  },
  {
   "cell_type": "code",
   "execution_count": 17,
   "metadata": {},
   "outputs": [
    {
     "name": "stdout",
     "output_type": "stream",
     "text": [
      "0                              Happy [weekday]!\n",
      "1             My outlook / webex is not working\n",
      "2                I have to jump to another call\n",
      "3                      We can't see your screen\n",
      "4                                  Typing noise\n",
      "5               Can you email that to everyone?\n",
      "6                           Sorry I was on Mute\n",
      "7                         It's [almost] Friday!\n",
      "8                              Echo or Feedback\n",
      "9                       Let's take this offline\n",
      "10                                  Dog Barking\n",
      "11                           I have a hard stop\n",
      "12                             Who just joined?\n",
      "13                   Go ahead (talking at once)\n",
      "14                        Is _____ on the call?\n",
      "15                   Your phone was breaking up\n",
      "16                 Can you repeat the question?\n",
      "17                           Wind or road noise\n",
      "18     Can everyone mute if you aren't talking?\n",
      "19                             Can you hear me?\n",
      "20                  Can everyone see my screen?\n",
      "21     Let me IM them to see if they're joining\n",
      "22                 I'll have to get back to you\n",
      "23                        Ok. Let's get started\n",
      "24                I'll give you back n minutes \n",
      "25                  Can you reach out to  ____?\n",
      "26    (Starting) This won't take the whole time\n",
      "27                                    level-set\n",
      "28                 Sorry I’m late (lame excuse)\n",
      "29          Can you repeat? I was multi-tasking\n",
      "30                            low hanging fruit\n",
      "31                        at the end of the day\n",
      "32                                      win-win\n",
      "33                               Loop in  _____\n",
      "34                       Keep _____ in the loop\n",
      "35                              awkward silence\n",
      "36                                  circle back\n",
      "37                                   touch base\n",
      "38                  I’ll take silence as a “no”\n",
      "39             I’ve got to jump on another call\n",
      "Name: Quotes, dtype: object\n"
     ]
    }
   ],
   "source": [
    "# print(df['Quotes'])"
   ]
  },
  {
   "cell_type": "code",
   "execution_count": 18,
   "metadata": {},
   "outputs": [
    {
     "name": "stdout",
     "output_type": "stream",
     "text": [
      "0                       Let's take this offline\n",
      "1                         Ok. Let's get started\n",
      "2                               awkward silence\n",
      "3                              Happy [weekday]!\n",
      "4     (Starting) This won't take the whole time\n",
      "5                         Is _____ on the call?\n",
      "6                      We can't see your screen\n",
      "7                         at the end of the day\n",
      "8              I’ve got to jump on another call\n",
      "9                                    touch base\n",
      "10                   Go ahead (talking at once)\n",
      "11     Can everyone mute if you aren't talking?\n",
      "12                          Sorry I was on Mute\n",
      "13            My outlook / webex is not working\n",
      "14                           Wind or road noise\n",
      "15                  I’ll take silence as a “no”\n",
      "16                 I'll have to get back to you\n",
      "17                                  circle back\n",
      "18                               Loop in  _____\n",
      "19                             Who just joined?\n",
      "20                        It's [almost] Friday!\n",
      "21                 Sorry I’m late (lame excuse)\n",
      "22                                  Dog Barking\n",
      "23                  Can you reach out to  ____?\n",
      "24                           I have a hard stop\n",
      "25          Can you repeat? I was multi-tasking\n",
      "26                  Can everyone see my screen?\n",
      "27               I have to jump to another call\n",
      "28                 Can you repeat the question?\n",
      "29     Let me IM them to see if they're joining\n",
      "30                             Echo or Feedback\n",
      "31                             Can you hear me?\n",
      "32                   Your phone was breaking up\n",
      "33                       Keep _____ in the loop\n",
      "34                            low hanging fruit\n",
      "35              Can you email that to everyone?\n",
      "36                I'll give you back n minutes \n",
      "37                                    level-set\n",
      "38                                      win-win\n",
      "39                                 Typing noise\n",
      "Name: Quotes, dtype: object\n"
     ]
    }
   ],
   "source": [
    "random.shuffle(df['Quotes'])\n",
    "print (df['Quotes'])"
   ]
  },
  {
   "cell_type": "code",
   "execution_count": 60,
   "metadata": {},
   "outputs": [
    {
     "data": {
      "text/html": [
       "<div>\n",
       "<style scoped>\n",
       "    .dataframe tbody tr th:only-of-type {\n",
       "        vertical-align: middle;\n",
       "    }\n",
       "\n",
       "    .dataframe tbody tr th {\n",
       "        vertical-align: top;\n",
       "    }\n",
       "\n",
       "    .dataframe thead th {\n",
       "        text-align: right;\n",
       "    }\n",
       "</style>\n",
       "<table border=\"1\" class=\"dataframe\">\n",
       "  <thead>\n",
       "    <tr style=\"text-align: right;\">\n",
       "      <th></th>\n",
       "      <th>col0</th>\n",
       "      <th>col1</th>\n",
       "      <th>col2</th>\n",
       "      <th>col3</th>\n",
       "      <th>col4</th>\n",
       "    </tr>\n",
       "  </thead>\n",
       "  <tbody>\n",
       "    <tr>\n",
       "      <th>0</th>\n",
       "      <td>Happy [weekday]!</td>\n",
       "      <td>Sorry I was on Mute</td>\n",
       "      <td>I have a hard stop</td>\n",
       "      <td>Can you repeat the question?</td>\n",
       "      <td>Let me IM them to see if they're joining</td>\n",
       "    </tr>\n",
       "    <tr>\n",
       "      <th>1</th>\n",
       "      <td>My outlook / webex is not working</td>\n",
       "      <td>It's [almost] Friday!</td>\n",
       "      <td>Who just joined?</td>\n",
       "      <td>Wind or road noise</td>\n",
       "      <td>I'll have to get back to you</td>\n",
       "    </tr>\n",
       "    <tr>\n",
       "      <th>2</th>\n",
       "      <td>I have to jump to another call</td>\n",
       "      <td>Echo or Feedback</td>\n",
       "      <td>Go ahead (talking at once)</td>\n",
       "      <td>Can everyone mute if you aren't talking?</td>\n",
       "      <td>Ok. Let's get started</td>\n",
       "    </tr>\n",
       "    <tr>\n",
       "      <th>3</th>\n",
       "      <td>We can't see your screen</td>\n",
       "      <td>Let's take this offline</td>\n",
       "      <td>Is _____ on the call?</td>\n",
       "      <td>Can you hear me?</td>\n",
       "      <td>I'll give you back n minutes</td>\n",
       "    </tr>\n",
       "    <tr>\n",
       "      <th>4</th>\n",
       "      <td>Typing noise</td>\n",
       "      <td>Dog Barking</td>\n",
       "      <td>Your phone was breaking up</td>\n",
       "      <td>Can everyone see my screen?</td>\n",
       "      <td>Can you reach out to  ____?</td>\n",
       "    </tr>\n",
       "  </tbody>\n",
       "</table>\n",
       "</div>"
      ],
      "text/plain": [
       "                                col0                     col1  \\\n",
       "0                   Happy [weekday]!      Sorry I was on Mute   \n",
       "1  My outlook / webex is not working    It's [almost] Friday!   \n",
       "2     I have to jump to another call         Echo or Feedback   \n",
       "3           We can't see your screen  Let's take this offline   \n",
       "4                       Typing noise              Dog Barking   \n",
       "\n",
       "                         col2                                      col3  \\\n",
       "0          I have a hard stop              Can you repeat the question?   \n",
       "1            Who just joined?                        Wind or road noise   \n",
       "2  Go ahead (talking at once)  Can everyone mute if you aren't talking?   \n",
       "3       Is _____ on the call?                          Can you hear me?   \n",
       "4  Your phone was breaking up               Can everyone see my screen?   \n",
       "\n",
       "                                       col4  \n",
       "0  Let me IM them to see if they're joining  \n",
       "1              I'll have to get back to you  \n",
       "2                     Ok. Let's get started  \n",
       "3             I'll give you back n minutes   \n",
       "4               Can you reach out to  ____?  "
      ]
     },
     "execution_count": 60,
     "metadata": {},
     "output_type": "execute_result"
    }
   ],
   "source": [
    "# Create a grid from the list\n",
    "\n",
    "col0 = df['Quotes'][0:6]\n",
    "col1 = df['Quotes'][6:11]\n",
    "col2 = df['Quotes'][11:16]\n",
    "col3 = df['Quotes'][16:21]\n",
    "col4 = df['Quotes'][21:26]\n",
    "\n",
    "df_bingo = pd.DataFrame(list(zip(col0, col1, col2, col3, col4)), columns = \n",
    "                  ['col0', 'col1', 'col2', 'col3', 'col4'])\n",
    "\n",
    "df_bingo"
   ]
  },
  {
   "cell_type": "code",
   "execution_count": 131,
   "metadata": {},
   "outputs": [],
   "source": [
    "# Create a Pandas Excel writer using XlsxWriter as the engine.\n",
    "writer = pd.ExcelWriter(outfile, engine='xlsxwriter')\n",
    "df_bingo.to_excel(writer, sheet_name = today_sheet_name, index=False)\n"
   ]
  },
  {
   "cell_type": "code",
   "execution_count": 132,
   "metadata": {},
   "outputs": [],
   "source": [
    "# Get the XlsxWriter objects from the dataframe writer object.\n",
    "workbook = writer.book\n",
    "worksheet = writer.sheets[today_sheet_name]"
   ]
  },
  {
   "cell_type": "code",
   "execution_count": 133,
   "metadata": {},
   "outputs": [],
   "source": [
    "# Format this biatch\n",
    "cell_format = workbook.add_format()\n",
    "\n",
    "cell_format.set_text_wrap()\n",
    "cell_format.set_font_size(18)\n",
    "cell_format.set_align('center')\n",
    "cell_format.set_align('vcenter')\n",
    "cell_format.set_border(1)\n",
    "\n",
    "\n",
    "worksheet.set_column('A:E', 23.0, cell_format) \n",
    "\n",
    "worksheet.set_row(1, 97.5)\n",
    "worksheet.set_row(2, 97.5)\n",
    "worksheet.set_row(3, 97.5)\n",
    "worksheet.set_row(4, 97.5)\n",
    "worksheet.set_row(5, 97.5)\n",
    "\n",
    "\n",
    "worksheet.set_page_view() # There's currently no way to remove the ruler from pageview\n",
    "worksheet.hide_gridlines(2) # 0 = don't hide gridlines, 1 = hide printed gridlines only, 2 = hide screen and printed gridlines\n",
    "worksheet.set_landscape()\n",
    "worksheet.set_margins(left=0.5, right=0.5, top=1.0, bottom=0.5)\n",
    "\n",
    "# Main font size is 18, and date font size is 12:\n",
    "header = '&C&18&\"Calibri,Bold\"Conference Call Bingo!' + ' \\n&12&A'\n",
    "worksheet.set_header(header)"
   ]
  },
  {
   "cell_type": "code",
   "execution_count": 135,
   "metadata": {},
   "outputs": [],
   "source": [
    "writer.save()\n",
    "writer.close()"
   ]
  },
  {
   "cell_type": "code",
   "execution_count": 129,
   "metadata": {},
   "outputs": [],
   "source": []
  },
  {
   "cell_type": "code",
   "execution_count": 134,
   "metadata": {},
   "outputs": [],
   "source": []
  },
  {
   "cell_type": "code",
   "execution_count": null,
   "metadata": {},
   "outputs": [],
   "source": []
  }
 ],
 "metadata": {
  "kernelspec": {
   "display_name": "Python 3",
   "language": "python",
   "name": "python3"
  },
  "language_info": {
   "codemirror_mode": {
    "name": "ipython",
    "version": 3
   },
   "file_extension": ".py",
   "mimetype": "text/x-python",
   "name": "python",
   "nbconvert_exporter": "python",
   "pygments_lexer": "ipython3",
   "version": "3.6.5"
  }
 },
 "nbformat": 4,
 "nbformat_minor": 2
}
