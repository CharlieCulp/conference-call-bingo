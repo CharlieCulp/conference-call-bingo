{
 "cells": [
  {
   "cell_type": "markdown",
   "metadata": {},
   "source": [
    "# Conference Call Bingo\n",
    "- Created by Charlie Culp\n",
    "- Creation date 10/x/2019\n",
    "- Python 3.7"
   ]
  },
  {
   "cell_type": "code",
   "execution_count": 1,
   "metadata": {},
   "outputs": [],
   "source": [
    "import random\n",
    "import pandas as pd\n",
    "from pandas import ExcelWriter\n",
    "from pandas import ExcelFile\n",
    "# from openpyxl import load_workbook\n",
    "import openpyxl\n"
   ]
  },
  {
   "cell_type": "code",
   "execution_count": 2,
   "metadata": {},
   "outputs": [],
   "source": [
    "from openpyxl.styles import Alignment #, PatternFill, Border, Side, Protection, Font"
   ]
  },
  {
   "cell_type": "markdown",
   "metadata": {},
   "source": [
    "### Read in file"
   ]
  },
  {
   "cell_type": "code",
   "execution_count": 2,
   "metadata": {},
   "outputs": [
    {
     "ename": "FileNotFoundError",
     "evalue": "[Errno 2] No such file or directory: '/home/ccculp2/Documents/Python/conference_call_bingo/BINGO_cc.xlsx'",
     "output_type": "error",
     "traceback": [
      "\u001b[0;31m---------------------------------------------------------------------------\u001b[0m",
      "\u001b[0;31mFileNotFoundError\u001b[0m                         Traceback (most recent call last)",
      "\u001b[0;32m<ipython-input-2-6899aef52033>\u001b[0m in \u001b[0;36m<module>\u001b[0;34m\u001b[0m\n\u001b[1;32m      3\u001b[0m \u001b[0;31m# file = (\"C://Users/U037679/Documents/AnacondaProjects/conference_call_bingo/BINGO_cc.xlsx\")\u001b[0m\u001b[0;34m\u001b[0m\u001b[0;34m\u001b[0m\u001b[0;34m\u001b[0m\u001b[0m\n\u001b[1;32m      4\u001b[0m \u001b[0;34m\u001b[0m\u001b[0m\n\u001b[0;32m----> 5\u001b[0;31m \u001b[0mwb\u001b[0m \u001b[0;34m=\u001b[0m \u001b[0mopenpyxl\u001b[0m\u001b[0;34m.\u001b[0m\u001b[0mload_workbook\u001b[0m\u001b[0;34m(\u001b[0m\u001b[0mfile\u001b[0m\u001b[0;34m)\u001b[0m\u001b[0;34m\u001b[0m\u001b[0;34m\u001b[0m\u001b[0m\n\u001b[0m\u001b[1;32m      6\u001b[0m \u001b[0mkeep_sheets\u001b[0m \u001b[0;34m=\u001b[0m \u001b[0;34m[\u001b[0m\u001b[0;34m'original'\u001b[0m\u001b[0;34m,\u001b[0m \u001b[0;34m'paste here'\u001b[0m\u001b[0;34m,\u001b[0m \u001b[0;34m'list'\u001b[0m\u001b[0;34m]\u001b[0m\u001b[0;34m\u001b[0m\u001b[0;34m\u001b[0m\u001b[0m\n\u001b[1;32m      7\u001b[0m \u001b[0;32mfor\u001b[0m \u001b[0msheetName\u001b[0m \u001b[0;32min\u001b[0m \u001b[0mwb\u001b[0m\u001b[0;34m.\u001b[0m\u001b[0msheetnames\u001b[0m\u001b[0;34m:\u001b[0m\u001b[0;34m\u001b[0m\u001b[0;34m\u001b[0m\u001b[0m\n",
      "\u001b[0;32m~/anaconda3/lib/python3.7/site-packages/openpyxl/reader/excel.py\u001b[0m in \u001b[0;36mload_workbook\u001b[0;34m(filename, read_only, keep_vba, data_only, keep_links)\u001b[0m\n\u001b[1;32m    309\u001b[0m     \"\"\"\n\u001b[1;32m    310\u001b[0m     reader = ExcelReader(filename, read_only, keep_vba,\n\u001b[0;32m--> 311\u001b[0;31m                         data_only, keep_links)\n\u001b[0m\u001b[1;32m    312\u001b[0m     \u001b[0mreader\u001b[0m\u001b[0;34m.\u001b[0m\u001b[0mread\u001b[0m\u001b[0;34m(\u001b[0m\u001b[0;34m)\u001b[0m\u001b[0;34m\u001b[0m\u001b[0;34m\u001b[0m\u001b[0m\n\u001b[1;32m    313\u001b[0m     \u001b[0;32mreturn\u001b[0m \u001b[0mreader\u001b[0m\u001b[0;34m.\u001b[0m\u001b[0mwb\u001b[0m\u001b[0;34m\u001b[0m\u001b[0;34m\u001b[0m\u001b[0m\n",
      "\u001b[0;32m~/anaconda3/lib/python3.7/site-packages/openpyxl/reader/excel.py\u001b[0m in \u001b[0;36m__init__\u001b[0;34m(self, fn, read_only, keep_vba, data_only, keep_links)\u001b[0m\n\u001b[1;32m    124\u001b[0m     def __init__(self,  fn, read_only=False, keep_vba=KEEP_VBA,\n\u001b[1;32m    125\u001b[0m                   data_only=False, keep_links=True):\n\u001b[0;32m--> 126\u001b[0;31m         \u001b[0mself\u001b[0m\u001b[0;34m.\u001b[0m\u001b[0marchive\u001b[0m \u001b[0;34m=\u001b[0m \u001b[0m_validate_archive\u001b[0m\u001b[0;34m(\u001b[0m\u001b[0mfn\u001b[0m\u001b[0;34m)\u001b[0m\u001b[0;34m\u001b[0m\u001b[0;34m\u001b[0m\u001b[0m\n\u001b[0m\u001b[1;32m    127\u001b[0m         \u001b[0mself\u001b[0m\u001b[0;34m.\u001b[0m\u001b[0mvalid_files\u001b[0m \u001b[0;34m=\u001b[0m \u001b[0mself\u001b[0m\u001b[0;34m.\u001b[0m\u001b[0marchive\u001b[0m\u001b[0;34m.\u001b[0m\u001b[0mnamelist\u001b[0m\u001b[0;34m(\u001b[0m\u001b[0;34m)\u001b[0m\u001b[0;34m\u001b[0m\u001b[0;34m\u001b[0m\u001b[0m\n\u001b[1;32m    128\u001b[0m         \u001b[0mself\u001b[0m\u001b[0;34m.\u001b[0m\u001b[0mread_only\u001b[0m \u001b[0;34m=\u001b[0m \u001b[0mread_only\u001b[0m\u001b[0;34m\u001b[0m\u001b[0;34m\u001b[0m\u001b[0m\n",
      "\u001b[0;32m~/anaconda3/lib/python3.7/site-packages/openpyxl/reader/excel.py\u001b[0m in \u001b[0;36m_validate_archive\u001b[0;34m(filename)\u001b[0m\n\u001b[1;32m     96\u001b[0m             \u001b[0;32mraise\u001b[0m \u001b[0mInvalidFileException\u001b[0m\u001b[0;34m(\u001b[0m\u001b[0mmsg\u001b[0m\u001b[0;34m)\u001b[0m\u001b[0;34m\u001b[0m\u001b[0;34m\u001b[0m\u001b[0m\n\u001b[1;32m     97\u001b[0m \u001b[0;34m\u001b[0m\u001b[0m\n\u001b[0;32m---> 98\u001b[0;31m     \u001b[0marchive\u001b[0m \u001b[0;34m=\u001b[0m \u001b[0mZipFile\u001b[0m\u001b[0;34m(\u001b[0m\u001b[0mfilename\u001b[0m\u001b[0;34m,\u001b[0m \u001b[0;34m'r'\u001b[0m\u001b[0;34m)\u001b[0m\u001b[0;34m\u001b[0m\u001b[0;34m\u001b[0m\u001b[0m\n\u001b[0m\u001b[1;32m     99\u001b[0m     \u001b[0;32mreturn\u001b[0m \u001b[0marchive\u001b[0m\u001b[0;34m\u001b[0m\u001b[0;34m\u001b[0m\u001b[0m\n\u001b[1;32m    100\u001b[0m \u001b[0;34m\u001b[0m\u001b[0m\n",
      "\u001b[0;32m~/anaconda3/lib/python3.7/zipfile.py\u001b[0m in \u001b[0;36m__init__\u001b[0;34m(self, file, mode, compression, allowZip64, compresslevel)\u001b[0m\n\u001b[1;32m   1205\u001b[0m             \u001b[0;32mwhile\u001b[0m \u001b[0;32mTrue\u001b[0m\u001b[0;34m:\u001b[0m\u001b[0;34m\u001b[0m\u001b[0;34m\u001b[0m\u001b[0m\n\u001b[1;32m   1206\u001b[0m                 \u001b[0;32mtry\u001b[0m\u001b[0;34m:\u001b[0m\u001b[0;34m\u001b[0m\u001b[0;34m\u001b[0m\u001b[0m\n\u001b[0;32m-> 1207\u001b[0;31m                     \u001b[0mself\u001b[0m\u001b[0;34m.\u001b[0m\u001b[0mfp\u001b[0m \u001b[0;34m=\u001b[0m \u001b[0mio\u001b[0m\u001b[0;34m.\u001b[0m\u001b[0mopen\u001b[0m\u001b[0;34m(\u001b[0m\u001b[0mfile\u001b[0m\u001b[0;34m,\u001b[0m \u001b[0mfilemode\u001b[0m\u001b[0;34m)\u001b[0m\u001b[0;34m\u001b[0m\u001b[0;34m\u001b[0m\u001b[0m\n\u001b[0m\u001b[1;32m   1208\u001b[0m                 \u001b[0;32mexcept\u001b[0m \u001b[0mOSError\u001b[0m\u001b[0;34m:\u001b[0m\u001b[0;34m\u001b[0m\u001b[0;34m\u001b[0m\u001b[0m\n\u001b[1;32m   1209\u001b[0m                     \u001b[0;32mif\u001b[0m \u001b[0mfilemode\u001b[0m \u001b[0;32min\u001b[0m \u001b[0mmodeDict\u001b[0m\u001b[0;34m:\u001b[0m\u001b[0;34m\u001b[0m\u001b[0;34m\u001b[0m\u001b[0m\n",
      "\u001b[0;31mFileNotFoundError\u001b[0m: [Errno 2] No such file or directory: '/home/ccculp2/Documents/Python/conference_call_bingo/BINGO_cc.xlsx'"
     ]
    }
   ],
   "source": [
    "# Delete unneeded sheets\n",
    "file = \"/home/ccculp2/Documents/Python/conference_call_bingo/BINGO_cc.xlsx\"\n",
    "# file = (\"C://Users/U037679/Documents/AnacondaProjects/conference_call_bingo/BINGO_cc.xlsx\")\n",
    "\n",
    "wb = openpyxl.load_workbook(file)\n",
    "keep_sheets = ['original', 'paste here', 'list']\n",
    "for sheetName in wb.sheetnames:\n",
    "    if sheetName not in keep_sheets:\n",
    "        del wb[sheetName]\n",
    "wb.save(file)\n"
   ]
  },
  {
   "cell_type": "code",
   "execution_count": 14,
   "metadata": {},
   "outputs": [],
   "source": [
    "# Create dataframe\n",
    "\n",
    "df = pd.read_excel(file, sheet_name='list', )\n",
    "book = load_workbook(file)\n",
    "writer = pd.ExcelWriter(file, engine = 'openpyxl') # this engine allows creating new tab instead of new workbook\n",
    "writer.book = book"
   ]
  },
  {
   "cell_type": "code",
   "execution_count": 6,
   "metadata": {},
   "outputs": [
    {
     "name": "stdout",
     "output_type": "stream",
     "text": [
      "0                                  Happy [weekday]!\n",
      "1                 My outlook / webex is not working\n",
      "2                    I have to jump to another call\n",
      "3                          We can't see your screen\n",
      "4                                      Typing noise\n",
      "5                    Can you email that to everyone\n",
      "6                               Sorry I was on Mute\n",
      "7                             It's [almost] Friday!\n",
      "8                                  Echo or Feedback\n",
      "9                           Let's take this offline\n",
      "10                                      Dog Barking\n",
      "11                              I have a hard stop.\n",
      "12                                 Who just joined?\n",
      "13                       Go ahead (talking at once)\n",
      "14                            Is _____ on the call?\n",
      "15                    You're phone was breaking up.\n",
      "16                      Can you repeat the question\n",
      "17                               Wind or road noise\n",
      "18                                  Sorry I'm late.\n",
      "19          Can everyone mute if you aren't talking\n",
      "20                                 Can you hear me?\n",
      "21                      Can everyone see my screen?\n",
      "22         Let me IM them to see if they're joining\n",
      "23                    I'll have to get back to you.\n",
      "24                            Ok. Let's get started\n",
      "25                    I'll give you back x minutes \n",
      "26                      Can you reach out to  ____?\n",
      "27    (At the start) This won't take the whole time\n",
      "28                                      “level set”\n",
      "29                                      “in flight”\n",
      "30                     Sorry I’m late (lame excuse)\n",
      "31              Can you repeat? I was multi-tasking\n",
      "32                                low hanging fruit\n",
      "33                           hit the ground running\n",
      "34                            at the end of the day\n",
      "35                                        “win-win”\n",
      "36                 I’ve got to jump on another call\n",
      "37                                   Loop in  _____\n",
      "38                           Keep _____ in the loop\n",
      "39                                  awkward silence\n",
      "40                                    “circle back”\n",
      "41                                     “touch base”\n",
      "Name: Quotes, dtype: object\n"
     ]
    }
   ],
   "source": [
    "print(df['Quotes'])"
   ]
  },
  {
   "cell_type": "markdown",
   "metadata": {},
   "source": [
    "### Randomize the list"
   ]
  },
  {
   "cell_type": "code",
   "execution_count": 7,
   "metadata": {},
   "outputs": [
    {
     "name": "stdout",
     "output_type": "stream",
     "text": [
      "0                    I have to jump to another call\n",
      "1                       Can everyone see my screen?\n",
      "2                 My outlook / webex is not working\n",
      "3                                    Loop in  _____\n",
      "4                                 low hanging fruit\n",
      "5                                  Who just joined?\n",
      "6           Can everyone mute if you aren't talking\n",
      "7                    Can you email that to everyone\n",
      "8                                   awkward silence\n",
      "9                     You're phone was breaking up.\n",
      "10                                      “in flight”\n",
      "11                      Can you reach out to  ____?\n",
      "12                               Wind or road noise\n",
      "13                            Is _____ on the call?\n",
      "14                              I have a hard stop.\n",
      "15                     Sorry I’m late (lame excuse)\n",
      "16                           hit the ground running\n",
      "17                    I'll give you back x minutes \n",
      "18                                     “touch base”\n",
      "19                    I'll have to get back to you.\n",
      "20                              Sorry I was on Mute\n",
      "21                          Let's take this offline\n",
      "22              Can you repeat? I was multi-tasking\n",
      "23                                      “level set”\n",
      "24                                    “circle back”\n",
      "25                            It's [almost] Friday!\n",
      "26                            Ok. Let's get started\n",
      "27                         We can't see your screen\n",
      "28                                 Echo or Feedback\n",
      "29                      Can you repeat the question\n",
      "30                                     Typing noise\n",
      "31         Let me IM them to see if they're joining\n",
      "32    (At the start) This won't take the whole time\n",
      "33                            at the end of the day\n",
      "34                                 Happy [weekday]!\n",
      "35                       Go ahead (talking at once)\n",
      "36                                  Sorry I'm late.\n",
      "37                           Keep _____ in the loop\n",
      "38                                        “win-win”\n",
      "39                                      Dog Barking\n",
      "40                                 Can you hear me?\n",
      "41                 I’ve got to jump on another call\n",
      "Name: Quotes, dtype: object\n"
     ]
    }
   ],
   "source": [
    "random.shuffle(df['Quotes'])\n",
    "print (df['Quotes'])"
   ]
  },
  {
   "cell_type": "code",
   "execution_count": 8,
   "metadata": {},
   "outputs": [
    {
     "data": {
      "text/html": [
       "<div>\n",
       "<style scoped>\n",
       "    .dataframe tbody tr th:only-of-type {\n",
       "        vertical-align: middle;\n",
       "    }\n",
       "\n",
       "    .dataframe tbody tr th {\n",
       "        vertical-align: top;\n",
       "    }\n",
       "\n",
       "    .dataframe thead th {\n",
       "        text-align: right;\n",
       "    }\n",
       "</style>\n",
       "<table border=\"1\" class=\"dataframe\">\n",
       "  <thead>\n",
       "    <tr style=\"text-align: right;\">\n",
       "      <th></th>\n",
       "      <th>col0</th>\n",
       "      <th>col1</th>\n",
       "      <th>col2</th>\n",
       "      <th>col3</th>\n",
       "      <th>col4</th>\n",
       "    </tr>\n",
       "  </thead>\n",
       "  <tbody>\n",
       "    <tr>\n",
       "      <td>0</td>\n",
       "      <td>I have to jump to another call</td>\n",
       "      <td>Can everyone mute if you aren't talking</td>\n",
       "      <td>Can you reach out to  ____?</td>\n",
       "      <td>hit the ground running</td>\n",
       "      <td>Let's take this offline</td>\n",
       "    </tr>\n",
       "    <tr>\n",
       "      <td>1</td>\n",
       "      <td>Can everyone see my screen?</td>\n",
       "      <td>Can you email that to everyone</td>\n",
       "      <td>Wind or road noise</td>\n",
       "      <td>I'll give you back x minutes</td>\n",
       "      <td>Can you repeat? I was multi-tasking</td>\n",
       "    </tr>\n",
       "    <tr>\n",
       "      <td>2</td>\n",
       "      <td>My outlook / webex is not working</td>\n",
       "      <td>awkward silence</td>\n",
       "      <td>Is _____ on the call?</td>\n",
       "      <td>“touch base”</td>\n",
       "      <td>“level set”</td>\n",
       "    </tr>\n",
       "    <tr>\n",
       "      <td>3</td>\n",
       "      <td>Loop in  _____</td>\n",
       "      <td>You're phone was breaking up.</td>\n",
       "      <td>I have a hard stop.</td>\n",
       "      <td>I'll have to get back to you.</td>\n",
       "      <td>“circle back”</td>\n",
       "    </tr>\n",
       "    <tr>\n",
       "      <td>4</td>\n",
       "      <td>low hanging fruit</td>\n",
       "      <td>“in flight”</td>\n",
       "      <td>Sorry I’m late (lame excuse)</td>\n",
       "      <td>Sorry I was on Mute</td>\n",
       "      <td>It's [almost] Friday!</td>\n",
       "    </tr>\n",
       "  </tbody>\n",
       "</table>\n",
       "</div>"
      ],
      "text/plain": [
       "                                col0                                     col1  \\\n",
       "0     I have to jump to another call  Can everyone mute if you aren't talking   \n",
       "1        Can everyone see my screen?           Can you email that to everyone   \n",
       "2  My outlook / webex is not working                          awkward silence   \n",
       "3                     Loop in  _____            You're phone was breaking up.   \n",
       "4                  low hanging fruit                              “in flight”   \n",
       "\n",
       "                           col2                           col3  \\\n",
       "0   Can you reach out to  ____?         hit the ground running   \n",
       "1            Wind or road noise  I'll give you back x minutes    \n",
       "2         Is _____ on the call?                   “touch base”   \n",
       "3           I have a hard stop.  I'll have to get back to you.   \n",
       "4  Sorry I’m late (lame excuse)            Sorry I was on Mute   \n",
       "\n",
       "                                  col4  \n",
       "0              Let's take this offline  \n",
       "1  Can you repeat? I was multi-tasking  \n",
       "2                          “level set”  \n",
       "3                        “circle back”  \n",
       "4                It's [almost] Friday!  "
      ]
     },
     "execution_count": 8,
     "metadata": {},
     "output_type": "execute_result"
    }
   ],
   "source": [
    "col0 = df['Quotes'][0:6]\n",
    "col1 = df['Quotes'][6:11]\n",
    "col2 = df['Quotes'][11:16]\n",
    "col3 = df['Quotes'][16:21]\n",
    "col4 = df['Quotes'][21:26]\n",
    "\n",
    "df_bingo = pd.DataFrame(list(zip(col0, col1, col2, col3, col4)), columns = \n",
    "                  ['col0', 'col1', 'col2', 'col3', 'col4'])\n",
    "\n",
    "df_bingo"
   ]
  },
  {
   "cell_type": "markdown",
   "metadata": {},
   "source": [
    "### Output file\n",
    "https://stackoverflow.com/questions/42370977/how-to-save-a-new-sheet-in-an-existing-excel-file-using-pandas\n"
   ]
  },
  {
   "cell_type": "code",
   "execution_count": 17,
   "metadata": {},
   "outputs": [],
   "source": [
    "\n",
    "df_bingo.to_excel(writer, sheet_name = 'grid')\n",
    "writer.save()\n",
    "writer.close()"
   ]
  },
  {
   "cell_type": "code",
   "execution_count": 28,
   "metadata": {},
   "outputs": [],
   "source": [
    "# https://xlsxwriter.readthedocs.io/example_pandas_column_formats.html\n",
    "# Still working on this...\n",
    "\n",
    "writer2 = pd.ExcelWriter(file, engine='xlsxwriter')\n",
    "\n",
    "df_bingo.to_excel(writer2, sheet_name = 'grid')\n",
    "\n",
    "workbook = writer2.book\n",
    "worksheet = writer2.sheets['grid']\n",
    "worksheet.set_column('B:F', 21, None)\n",
    "# worksheet.set_row('2:6', 100, None)\n",
    "\n",
    "writer.save()\n",
    "writer.close()"
   ]
  },
  {
   "cell_type": "markdown",
   "metadata": {},
   "source": [
    "https://stackoverflow.com/questions/8440284/setting-styles-in-openpyxl    \n",
    "\n",
    "https://www.geeksforgeeks.org/python-adjusting-rows-and-columns-of-an-excel-file-using-openpyxl-module/\n",
    "\n",
    "https://xlsxwriter.readthedocs.io/example_pandas_column_formats.html"
   ]
  },
  {
   "cell_type": "code",
   "execution_count": 11,
   "metadata": {},
   "outputs": [],
   "source": []
  },
  {
   "cell_type": "code",
   "execution_count": null,
   "metadata": {},
   "outputs": [],
   "source": [
    "# define ws here, in this case I pick the first worksheet in the workbook...\n",
    "#    NOTE: openpyxl has other ways to select a specific worksheet (i.e. by name\n",
    "#    via book.get_sheet_by_name('someWorksheetName'))\n",
    "ws = book.worksheets[0]\n",
    "\n",
    "## ws is a openpypxl worksheet object\n",
    "_cell = ws.cell('C1')\n",
    "\n",
    "# Font properties\n",
    "_cell.style.font.color.index = Color.GREEN\n",
    "_cell.style.font.name = 'Arial'\n",
    "_cell.style.font.size = 8\n",
    "_cell.style.font.bold = True\n",
    "_cell.style.alignment.wrap_text = True\n",
    "\n",
    "# Cell background color\n",
    "_cell.style.fill.fill_type = Fill.FILL_SOLID\n",
    "_cell.style.fill.start_color.index = Color.DARKRED\n",
    "\n",
    "# You should only modify column dimensions after you have written a cell in \n",
    "#     the column. Perfect world: write column dimensions once per column\n",
    "# \n",
    "ws.column_dimensions[\"C\"].width = 60.0"
   ]
  },
  {
   "cell_type": "code",
   "execution_count": 2,
   "metadata": {},
   "outputs": [
    {
     "ename": "NameError",
     "evalue": "name 'file' is not defined",
     "output_type": "error",
     "traceback": [
      "\u001b[0;31m---------------------------------------------------------------------------\u001b[0m",
      "\u001b[0;31mNameError\u001b[0m                                 Traceback (most recent call last)",
      "\u001b[0;32m<ipython-input-2-30ca43afff02>\u001b[0m in \u001b[0;36m<module>\u001b[0;34m\u001b[0m\n\u001b[1;32m      1\u001b[0m \u001b[0;32mimport\u001b[0m \u001b[0mopenpyxl\u001b[0m\u001b[0;34m\u001b[0m\u001b[0;34m\u001b[0m\u001b[0m\n\u001b[0;32m----> 2\u001b[0;31m \u001b[0mworkbook\u001b[0m\u001b[0;34m=\u001b[0m\u001b[0mopenpyxl\u001b[0m\u001b[0;34m.\u001b[0m\u001b[0mload_workbook\u001b[0m\u001b[0;34m(\u001b[0m\u001b[0mfile\u001b[0m\u001b[0;34m)\u001b[0m\u001b[0;34m\u001b[0m\u001b[0;34m\u001b[0m\u001b[0m\n\u001b[0m\u001b[1;32m      3\u001b[0m \u001b[0mworkbook\u001b[0m\u001b[0;34m.\u001b[0m\u001b[0msheetnames\u001b[0m\u001b[0;34m\u001b[0m\u001b[0;34m\u001b[0m\u001b[0m\n",
      "\u001b[0;31mNameError\u001b[0m: name 'file' is not defined"
     ]
    }
   ],
   "source": [
    "import openpyxl\n",
    "workbook=openpyxl.load_workbook(file)\n",
    "workbook.sheetnames"
   ]
  },
  {
   "cell_type": "code",
   "execution_count": 32,
   "metadata": {},
   "outputs": [],
   "source": [
    "alignment=Alignment(horizontal='general',\n",
    "                    vertical='center',\n",
    "                    text_rotation=0,\n",
    "                    wrap_text=True,\n",
    "                    shrink_to_fit=False,\n",
    "                    indent=0)"
   ]
  },
  {
   "cell_type": "code",
   "execution_count": null,
   "metadata": {},
   "outputs": [],
   "source": []
  }
 ],
 "metadata": {
  "kernelspec": {
   "display_name": "Python 3",
   "language": "python",
   "name": "python3"
  },
  "language_info": {
   "codemirror_mode": {
    "name": "ipython",
    "version": 3
   },
   "file_extension": ".py",
   "mimetype": "text/x-python",
   "name": "python",
   "nbconvert_exporter": "python",
   "pygments_lexer": "ipython3",
   "version": "3.7.4"
  }
 },
 "nbformat": 4,
 "nbformat_minor": 4
}